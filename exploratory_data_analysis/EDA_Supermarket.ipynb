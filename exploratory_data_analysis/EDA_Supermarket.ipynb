{
 "cells": [
  {
   "cell_type": "markdown",
   "id": "14cd280b-7a20-4976-b568-9a4119e0926e",
   "metadata": {},
   "source": [
    "# EDA Customer in Supermarket"
   ]
  },
  {
   "cell_type": "markdown",
   "id": "10ca1731-cc52-47f5-b4ac-87768f9a46c1",
   "metadata": {},
   "source": [
    "## Import Data and Clean the Data"
   ]
  },
  {
   "cell_type": "code",
   "execution_count": 1,
   "id": "7cf9c5e7-e342-40fa-bcba-4c99a589156c",
   "metadata": {},
   "outputs": [],
   "source": [
    "import pandas as pd\n",
    "import numpy as np\n",
    "import matplotlib as plt\n",
    "from matplotlib.pyplot import figure\n",
    "import seaborn as sns\n",
    "import datetime"
   ]
  },
  {
   "cell_type": "code",
   "execution_count": 2,
   "id": "865402a3-b63a-4273-8905-1ef380b71690",
   "metadata": {},
   "outputs": [],
   "source": [
    "df = pd.DataFrame()"
   ]
  },
  {
   "cell_type": "markdown",
   "id": "1b0efd33-1216-4cc6-92a4-1e4db2162f63",
   "metadata": {},
   "source": [
    "### Build function which creates one single DF out the different weekday .csv"
   ]
  },
  {
   "cell_type": "code",
   "execution_count": 2,
   "id": "c0d605aa-6c7e-44b0-a954-c7d3cf1d6665",
   "metadata": {},
   "outputs": [],
   "source": [
    "# Create a single DF out of the different weekday files\n",
    "# Add checkout stamp for certain customers since when the supermarket is closing, some customer are not recorded as checked out. \n",
    "# Renumber the customer_no, since all customer_no start with 1 again in the different daily .csv files. c\n",
    "# customer_no will continue from the customer_no from the previous day.\n",
    "def create_df():    \n",
    "    df = pd.DataFrame()\n",
    "    counter = 0\n",
    "    number_of_cust = 0\n",
    "    \n",
    "    # read the single .csv files by a loop\n",
    "    for weekday in [\"monday\",\"tuesday\",\"wednesday\",\"thursday\",\"friday\"]:\n",
    "        df_weekday = pd.DataFrame()\n",
    "        df_weekday = pd.read_csv(f\".././data/{weekday}.csv\",sep = \";\", index_col = 0, parse_dates=True )\n",
    "        \n",
    "        if weekday!=\"monday\": #if the weekday is monday, the counter stays zero, since no data from the previous day need to be added\n",
    "            df_weekday[\"customer_no\"] =  df_weekday[\"customer_no\"] + counter\n",
    "        \n",
    "        # set a counter, which counts the customers of the previous days and than adds them to currently loaded customer file.\n",
    "        counter += df_weekday[\"customer_no\"].nunique()   \n",
    "        \n",
    "        # Check which customer have not checkout\n",
    "        df_no_dup = df_weekday.drop_duplicates(subset=['customer_no'],keep='last')\n",
    "        df_no_dup = df_no_dup.loc[(df_no_dup[\"location\"]!=\"checkout\")]\n",
    "       \n",
    "        # create a DF coLumn whcih contains onLy \"checkout\" \n",
    "        checkout_list = []\n",
    "        for i in range(0,len(df_no_dup)):\n",
    "            checkout_list.append(\"checkout\")\n",
    "        checkout_list\n",
    "        df_no_dup[\"location\"] = checkout_list\n",
    "\n",
    "        # create a list with timestamp of the date and last hour 22:00:00\n",
    "        time_list = []\n",
    "        for i in range(0,len(df_no_dup)):\n",
    "            time_list.append(datetime.datetime.combine(df_no_dup.index[0].date(), \n",
    "                                  datetime.time(22, 0,0)))\n",
    "\n",
    "        # resets the index of the checkout-df to the date and 22:00:00\n",
    "        df_no_dup.index=time_list\n",
    "        \n",
    "        #add the checkout df to the original df\n",
    "        df_weekday = pd.concat([df_weekday,df_no_dup])\n",
    "        df = pd.concat([df,df_weekday])\n",
    "    #print(counter)\n",
    "    return(df)\n",
    "\n",
    "\n",
    "\n"
   ]
  },
  {
   "cell_type": "code",
   "execution_count": 3,
   "id": "54ed787f-163e-4209-802e-06a8b98259f0",
   "metadata": {
    "tags": []
   },
   "outputs": [],
   "source": [
    "# create a new df containing all weekdays\n",
    "df_week= create_df()\n"
   ]
  },
  {
   "cell_type": "code",
   "execution_count": 4,
   "id": "5b3373f2-d927-402b-b052-fc76309f94a1",
   "metadata": {
    "tags": []
   },
   "outputs": [
    {
     "data": {
      "text/plain": [
       "(                     customer_no location weekday\n",
       " 2019-09-02 07:03:00            1    dairy  Monday\n",
       " 2019-09-02 07:03:00            2    dairy  Monday\n",
       " 2019-09-02 07:04:00            3    dairy  Monday\n",
       " 2019-09-02 07:04:00            4    dairy  Monday\n",
       " 2019-09-02 07:04:00            5   spices  Monday,\n",
       "                      customer_no  location weekday\n",
       " 2019-09-06 22:00:00         7440  checkout  Friday\n",
       " 2019-09-06 22:00:00         7431  checkout  Friday\n",
       " 2019-09-06 22:00:00         7435  checkout  Friday\n",
       " 2019-09-06 22:00:00         7444  checkout  Friday\n",
       " 2019-09-06 22:00:00         7445  checkout  Friday)"
      ]
     },
     "execution_count": 4,
     "metadata": {},
     "output_type": "execute_result"
    }
   ],
   "source": [
    "#create new coLumn with the respective weekday as string\n",
    "df_week[\"weekday\"] = df_week.index.strftime('%A')\n",
    "df_week.head(), df_week.tail()"
   ]
  },
  {
   "cell_type": "code",
   "execution_count": 5,
   "id": "cdd8c2c4",
   "metadata": {},
   "outputs": [
    {
     "name": "stdout",
     "output_type": "stream",
     "text": [
      "dairy\n"
     ]
    }
   ],
   "source": [
    "# calculate the probability at which supermarket departement the customer will start\n",
    "df_starting = df_week.drop_duplicates(subset=['customer_no'],keep='first') # create df only with starting positions\n",
    "df_starting = df_starting.groupby(\"location\").count()\n",
    "df_starting[\"start_prob\"] = df_starting[\"customer_no\"]/df_starting[\"customer_no\"].sum()\n",
    "df_starting = df_starting[\"start_prob\"] \n",
    "\n",
    "# create a list with starting probabilities\n",
    "prob=df_starting.to_list()\n",
    "startlocation = np.random.choice([\"dairy\",\"drinks\",\"fruit\",\"spices\"], size=1, p=prob)[0]\n",
    "print(startlocation)\n"
   ]
  },
  {
   "cell_type": "code",
   "execution_count": 6,
   "id": "c60a724a",
   "metadata": {},
   "outputs": [
    {
     "name": "stdout",
     "output_type": "stream",
     "text": [
      "[0.2875755540631296, 0.15352585627938214, 0.3774345198119543, 0.18146406984553393]\n"
     ]
    }
   ],
   "source": [
    "print(prob)"
   ]
  },
  {
   "cell_type": "markdown",
   "id": "26cac99c-7bca-4b2a-9a39-1c5a2b1d595f",
   "metadata": {},
   "source": [
    "### Total numbers of customers in the supermarket"
   ]
  },
  {
   "cell_type": "code",
   "execution_count": 7,
   "id": "ba6cac7a-5162-4dc2-9846-b11bf8e364e6",
   "metadata": {},
   "outputs": [
    {
     "data": {
      "text/html": [
       "<div>\n",
       "<style scoped>\n",
       "    .dataframe tbody tr th:only-of-type {\n",
       "        vertical-align: middle;\n",
       "    }\n",
       "\n",
       "    .dataframe tbody tr th {\n",
       "        vertical-align: top;\n",
       "    }\n",
       "\n",
       "    .dataframe thead th {\n",
       "        text-align: right;\n",
       "    }\n",
       "</style>\n",
       "<table border=\"1\" class=\"dataframe\">\n",
       "  <thead>\n",
       "    <tr style=\"text-align: right;\">\n",
       "      <th></th>\n",
       "      <th></th>\n",
       "      <th></th>\n",
       "      <th>customer_no</th>\n",
       "    </tr>\n",
       "  </thead>\n",
       "  <tbody>\n",
       "    <tr>\n",
       "      <th rowspan=\"5\" valign=\"top\">0</th>\n",
       "      <th rowspan=\"5\" valign=\"top\">Monday</th>\n",
       "      <th>7</th>\n",
       "      <td>317</td>\n",
       "    </tr>\n",
       "    <tr>\n",
       "      <th>8</th>\n",
       "      <td>364</td>\n",
       "    </tr>\n",
       "    <tr>\n",
       "      <th>9</th>\n",
       "      <td>308</td>\n",
       "    </tr>\n",
       "    <tr>\n",
       "      <th>10</th>\n",
       "      <td>282</td>\n",
       "    </tr>\n",
       "    <tr>\n",
       "      <th>11</th>\n",
       "      <td>189</td>\n",
       "    </tr>\n",
       "    <tr>\n",
       "      <th>...</th>\n",
       "      <th>...</th>\n",
       "      <th>...</th>\n",
       "      <td>...</td>\n",
       "    </tr>\n",
       "    <tr>\n",
       "      <th rowspan=\"5\" valign=\"top\">4</th>\n",
       "      <th rowspan=\"5\" valign=\"top\">Friday</th>\n",
       "      <th>18</th>\n",
       "      <td>548</td>\n",
       "    </tr>\n",
       "    <tr>\n",
       "      <th>19</th>\n",
       "      <td>453</td>\n",
       "    </tr>\n",
       "    <tr>\n",
       "      <th>20</th>\n",
       "      <td>335</td>\n",
       "    </tr>\n",
       "    <tr>\n",
       "      <th>21</th>\n",
       "      <td>181</td>\n",
       "    </tr>\n",
       "    <tr>\n",
       "      <th>22</th>\n",
       "      <td>8</td>\n",
       "    </tr>\n",
       "  </tbody>\n",
       "</table>\n",
       "<p>80 rows × 1 columns</p>\n",
       "</div>"
      ],
      "text/plain": [
       "             customer_no\n",
       "0 Monday 7           317\n",
       "         8           364\n",
       "         9           308\n",
       "         10          282\n",
       "         11          189\n",
       "...                  ...\n",
       "4 Friday 18          548\n",
       "         19          453\n",
       "         20          335\n",
       "         21          181\n",
       "         22            8\n",
       "\n",
       "[80 rows x 1 columns]"
      ]
     },
     "execution_count": 7,
     "metadata": {},
     "output_type": "execute_result"
    }
   ],
   "source": [
    "# amount of customer which have benn at the supermarket at a given time\n",
    "df_no_customer_hour = df_week.groupby([df_week.index.weekday,df_week.index.strftime('%A'), df_week.index.hour]).count()\n",
    "df_no_customer_hour[[\"customer_no\"]]"
   ]
  },
  {
   "cell_type": "code",
   "execution_count": 8,
   "id": "411a9d2b-e71b-4f90-bca0-d403fe109f83",
   "metadata": {},
   "outputs": [
    {
     "data": {
      "text/plain": [
       "<AxesSubplot:>"
      ]
     },
     "execution_count": 8,
     "metadata": {},
     "output_type": "execute_result"
    },
    {
     "data": {
      "image/png": "[encoded data removed]",
      "text/plain": [
       "<Figure size 1440x864 with 1 Axes>"
      ]
     },
     "metadata": {
      "needs_background": "light"
     },
     "output_type": "display_data"
    }
   ],
   "source": [
    "#plot the no of customer per hour over the week\n",
    "df_no_customer_hour.plot.bar(y=\"customer_no\", figsize=(20,12))"
   ]
  },
  {
   "cell_type": "code",
   "execution_count": null,
   "id": "933849d4-de3e-4cd9-8afe-af768b114ef0",
   "metadata": {},
   "outputs": [],
   "source": []
  },
  {
   "cell_type": "markdown",
   "id": "e20c529f-cbdf-4cf5-9c0b-15ad8519b62e",
   "metadata": {},
   "source": [
    "### Total Numbers of customers per area"
   ]
  },
  {
   "cell_type": "code",
   "execution_count": 9,
   "id": "856d21c0-3a62-43e2-a3e9-37b798ae9524",
   "metadata": {},
   "outputs": [
    {
     "data": {
      "text/plain": [
       "<AxesSubplot:xlabel='location', ylabel='customer_no'>"
      ]
     },
     "execution_count": 9,
     "metadata": {},
     "output_type": "execute_result"
    },
    {
     "data": {
      "image/png": "[encoded data removed]",
      "text/plain": [
       "<Figure size 432x288 with 1 Axes>"
      ]
     },
     "metadata": {
      "needs_background": "light"
     },
     "output_type": "display_data"
    }
   ],
   "source": [
    "sns.barplot(data=df_week.groupby(\"location\").count(),x=df_week.groupby(\"location\").count().index,y=\"customer_no\")"
   ]
  },
  {
   "cell_type": "markdown",
   "id": "362f36b3-aa10-4cf1-8a59-a6df10f1a86d",
   "metadata": {},
   "source": [
    "### Total numbers of customers in one week"
   ]
  },
  {
   "cell_type": "code",
   "execution_count": 10,
   "id": "396c44bb-0435-4120-b34a-93d2d674ac1d",
   "metadata": {},
   "outputs": [
    {
     "data": {
      "text/plain": [
       "7445"
      ]
     },
     "execution_count": 10,
     "metadata": {},
     "output_type": "execute_result"
    }
   ],
   "source": [
    "df_week[\"customer_no\"].nunique()"
   ]
  },
  {
   "cell_type": "markdown",
   "id": "5ee6a61d",
   "metadata": {},
   "source": [
    "## Time in Supermarket"
   ]
  },
  {
   "cell_type": "markdown",
   "id": "f40f3d83-808a-4767-b809-3a8d3fbd6210",
   "metadata": {},
   "source": [
    "### Create DF to calculate how long customers spent in the supermarket"
   ]
  },
  {
   "cell_type": "code",
   "execution_count": 11,
   "id": "aa245345-eb98-4b07-8e64-bfadac0dbd07",
   "metadata": {},
   "outputs": [
    {
     "data": {
      "text/html": [
       "<div>\n",
       "<style scoped>\n",
       "    .dataframe tbody tr th:only-of-type {\n",
       "        vertical-align: middle;\n",
       "    }\n",
       "\n",
       "    .dataframe tbody tr th {\n",
       "        vertical-align: top;\n",
       "    }\n",
       "\n",
       "    .dataframe thead th {\n",
       "        text-align: right;\n",
       "    }\n",
       "</style>\n",
       "<table border=\"1\" class=\"dataframe\">\n",
       "  <thead>\n",
       "    <tr style=\"text-align: right;\">\n",
       "      <th></th>\n",
       "      <th>customer_no</th>\n",
       "      <th>location_x</th>\n",
       "      <th>weekday_x</th>\n",
       "      <th>time_x</th>\n",
       "      <th>location_y</th>\n",
       "      <th>weekday_y</th>\n",
       "      <th>time_y</th>\n",
       "      <th>timediff</th>\n",
       "    </tr>\n",
       "  </thead>\n",
       "  <tbody>\n",
       "    <tr>\n",
       "      <th>0</th>\n",
       "      <td>1</td>\n",
       "      <td>dairy</td>\n",
       "      <td>Monday</td>\n",
       "      <td>2019-09-02 07:03:00</td>\n",
       "      <td>checkout</td>\n",
       "      <td>Monday</td>\n",
       "      <td>2019-09-02 07:05:00</td>\n",
       "      <td>0 days 00:02:00</td>\n",
       "    </tr>\n",
       "    <tr>\n",
       "      <th>1</th>\n",
       "      <td>2</td>\n",
       "      <td>dairy</td>\n",
       "      <td>Monday</td>\n",
       "      <td>2019-09-02 07:03:00</td>\n",
       "      <td>checkout</td>\n",
       "      <td>Monday</td>\n",
       "      <td>2019-09-02 07:06:00</td>\n",
       "      <td>0 days 00:03:00</td>\n",
       "    </tr>\n",
       "  </tbody>\n",
       "</table>\n",
       "</div>"
      ],
      "text/plain": [
       "   customer_no location_x weekday_x              time_x location_y weekday_y  \\\n",
       "0            1      dairy    Monday 2019-09-02 07:03:00   checkout    Monday   \n",
       "1            2      dairy    Monday 2019-09-02 07:03:00   checkout    Monday   \n",
       "\n",
       "               time_y        timediff  \n",
       "0 2019-09-02 07:05:00 0 days 00:02:00  \n",
       "1 2019-09-02 07:06:00 0 days 00:03:00  "
      ]
     },
     "execution_count": 11,
     "metadata": {},
     "output_type": "execute_result"
    }
   ],
   "source": [
    "df_week[\"time\"] = df_week.index\n",
    "df_enter_super= df_week.drop_duplicates(subset =\"customer_no\",\n",
    "                     keep = \"first\")#.append(df_week.drop_duplicates(subset =\"customer_no\",\n",
    "                     #keep = \"last\")).sort_values(\"customer_no\")\n",
    "\n",
    "df_checkout_super=df_week.drop_duplicates(subset =\"customer_no\",\n",
    "                     keep = \"last\")\n",
    "#df_test = df_test1.append(df_test2)\n",
    "df_time_in_super = pd.merge(df_enter_super, df_checkout_super, left_on=\"customer_no\", right_on=\"customer_no\")\n",
    "df_time_in_super .sort_values(\"customer_no\")\n",
    "\n",
    "df_time_in_super [\"timediff\"] = df_time_in_super [\"time_y\"] - df_time_in_super [\"time_x\"] \n",
    "\n",
    "df_time_in_super .head(2)"
   ]
  },
  {
   "cell_type": "markdown",
   "id": "f626fa84-4066-4a44-b926-ac24f0266448",
   "metadata": {},
   "source": [
    "### Minutes customers spent in the supermarket"
   ]
  },
  {
   "cell_type": "code",
   "execution_count": 12,
   "id": "c1ceba0b",
   "metadata": {},
   "outputs": [
    {
     "data": {
      "text/plain": [
       "Timedelta('0 days 00:06:16.964405641')"
      ]
     },
     "execution_count": 12,
     "metadata": {},
     "output_type": "execute_result"
    }
   ],
   "source": [
    "# average time customer spent at supermarket\n",
    "df_time_in_super[\"timediff\"].mean()"
   ]
  },
  {
   "cell_type": "code",
   "execution_count": 13,
   "id": "6f439b5b",
   "metadata": {},
   "outputs": [
    {
     "data": {
      "text/plain": [
       "Timedelta('0 days 00:52:00')"
      ]
     },
     "execution_count": 13,
     "metadata": {},
     "output_type": "execute_result"
    }
   ],
   "source": [
    "#maximum time a customer spent in the super market\n",
    "df_time_in_super[\"timediff\"].max()"
   ]
  },
  {
   "cell_type": "markdown",
   "id": "5b8fdf79",
   "metadata": {},
   "source": [
    "## Transition Matrix"
   ]
  },
  {
   "cell_type": "markdown",
   "id": "2d83a870",
   "metadata": {},
   "source": [
    "### Create a matrix with shifted vaLues to cacuLate transition matrix"
   ]
  },
  {
   "cell_type": "code",
   "execution_count": 14,
   "id": "77cbcd4f-4c33-4745-b29c-5dee3d795cd9",
   "metadata": {},
   "outputs": [
    {
     "data": {
      "text/html": [
       "<div>\n",
       "<style scoped>\n",
       "    .dataframe tbody tr th:only-of-type {\n",
       "        vertical-align: middle;\n",
       "    }\n",
       "\n",
       "    .dataframe tbody tr th {\n",
       "        vertical-align: top;\n",
       "    }\n",
       "\n",
       "    .dataframe thead th {\n",
       "        text-align: right;\n",
       "    }\n",
       "</style>\n",
       "<table border=\"1\" class=\"dataframe\">\n",
       "  <thead>\n",
       "    <tr style=\"text-align: right;\">\n",
       "      <th></th>\n",
       "      <th>customer_no</th>\n",
       "      <th>location</th>\n",
       "      <th>weekday</th>\n",
       "      <th>time</th>\n",
       "      <th>next_location</th>\n",
       "    </tr>\n",
       "  </thead>\n",
       "  <tbody>\n",
       "    <tr>\n",
       "      <th>2019-09-02 07:03:00</th>\n",
       "      <td>1</td>\n",
       "      <td>dairy</td>\n",
       "      <td>Monday</td>\n",
       "      <td>2019-09-02 07:03:00</td>\n",
       "      <td>checkout</td>\n",
       "    </tr>\n",
       "    <tr>\n",
       "      <th>2019-09-02 07:03:00</th>\n",
       "      <td>2</td>\n",
       "      <td>dairy</td>\n",
       "      <td>Monday</td>\n",
       "      <td>2019-09-02 07:03:00</td>\n",
       "      <td>checkout</td>\n",
       "    </tr>\n",
       "    <tr>\n",
       "      <th>2019-09-02 07:04:00</th>\n",
       "      <td>3</td>\n",
       "      <td>dairy</td>\n",
       "      <td>Monday</td>\n",
       "      <td>2019-09-02 07:04:00</td>\n",
       "      <td>checkout</td>\n",
       "    </tr>\n",
       "    <tr>\n",
       "      <th>2019-09-02 07:04:00</th>\n",
       "      <td>4</td>\n",
       "      <td>dairy</td>\n",
       "      <td>Monday</td>\n",
       "      <td>2019-09-02 07:04:00</td>\n",
       "      <td>checkout</td>\n",
       "    </tr>\n",
       "    <tr>\n",
       "      <th>2019-09-02 07:04:00</th>\n",
       "      <td>5</td>\n",
       "      <td>spices</td>\n",
       "      <td>Monday</td>\n",
       "      <td>2019-09-02 07:04:00</td>\n",
       "      <td>checkout</td>\n",
       "    </tr>\n",
       "    <tr>\n",
       "      <th>2019-09-02 07:04:00</th>\n",
       "      <td>6</td>\n",
       "      <td>spices</td>\n",
       "      <td>Monday</td>\n",
       "      <td>2019-09-02 07:04:00</td>\n",
       "      <td>dairy</td>\n",
       "    </tr>\n",
       "    <tr>\n",
       "      <th>2019-09-02 07:05:00</th>\n",
       "      <td>6</td>\n",
       "      <td>dairy</td>\n",
       "      <td>Monday</td>\n",
       "      <td>2019-09-02 07:05:00</td>\n",
       "      <td>spices</td>\n",
       "    </tr>\n",
       "    <tr>\n",
       "      <th>2019-09-02 07:17:00</th>\n",
       "      <td>6</td>\n",
       "      <td>spices</td>\n",
       "      <td>Monday</td>\n",
       "      <td>2019-09-02 07:17:00</td>\n",
       "      <td>drinks</td>\n",
       "    </tr>\n",
       "    <tr>\n",
       "      <th>2019-09-02 07:18:00</th>\n",
       "      <td>6</td>\n",
       "      <td>drinks</td>\n",
       "      <td>Monday</td>\n",
       "      <td>2019-09-02 07:18:00</td>\n",
       "      <td>spices</td>\n",
       "    </tr>\n",
       "    <tr>\n",
       "      <th>2019-09-02 07:25:00</th>\n",
       "      <td>6</td>\n",
       "      <td>spices</td>\n",
       "      <td>Monday</td>\n",
       "      <td>2019-09-02 07:25:00</td>\n",
       "      <td>dairy</td>\n",
       "    </tr>\n",
       "  </tbody>\n",
       "</table>\n",
       "</div>"
      ],
      "text/plain": [
       "                     customer_no location weekday                time  \\\n",
       "2019-09-02 07:03:00            1    dairy  Monday 2019-09-02 07:03:00   \n",
       "2019-09-02 07:03:00            2    dairy  Monday 2019-09-02 07:03:00   \n",
       "2019-09-02 07:04:00            3    dairy  Monday 2019-09-02 07:04:00   \n",
       "2019-09-02 07:04:00            4    dairy  Monday 2019-09-02 07:04:00   \n",
       "2019-09-02 07:04:00            5   spices  Monday 2019-09-02 07:04:00   \n",
       "2019-09-02 07:04:00            6   spices  Monday 2019-09-02 07:04:00   \n",
       "2019-09-02 07:05:00            6    dairy  Monday 2019-09-02 07:05:00   \n",
       "2019-09-02 07:17:00            6   spices  Monday 2019-09-02 07:17:00   \n",
       "2019-09-02 07:18:00            6   drinks  Monday 2019-09-02 07:18:00   \n",
       "2019-09-02 07:25:00            6   spices  Monday 2019-09-02 07:25:00   \n",
       "\n",
       "                    next_location  \n",
       "2019-09-02 07:03:00      checkout  \n",
       "2019-09-02 07:03:00      checkout  \n",
       "2019-09-02 07:04:00      checkout  \n",
       "2019-09-02 07:04:00      checkout  \n",
       "2019-09-02 07:04:00      checkout  \n",
       "2019-09-02 07:04:00         dairy  \n",
       "2019-09-02 07:05:00        spices  \n",
       "2019-09-02 07:17:00        drinks  \n",
       "2019-09-02 07:18:00        spices  \n",
       "2019-09-02 07:25:00         dairy  "
      ]
     },
     "execution_count": 14,
     "metadata": {},
     "output_type": "execute_result"
    }
   ],
   "source": [
    "# create dataframe which shows the current location/with time and the next_location of the customer with time\n",
    "df_shifted = df_week.sort_values([\"customer_no\",\"time\"])\n",
    "df_shifted[\"next_location\"] = df_shifted[\"location\"].shift(-1)\n",
    "df_shifted=df_shifted.loc[df_shifted[\"location\"]!=\"checkout\"]\n",
    "df_shifted.head(10)"
   ]
  },
  {
   "cell_type": "markdown",
   "id": "082f524b",
   "metadata": {},
   "source": [
    "### Create transition  matrix"
   ]
  },
  {
   "cell_type": "code",
   "execution_count": 15,
   "id": "08a9eb7e-ba5e-4e45-9147-fa90905a7f18",
   "metadata": {},
   "outputs": [
    {
     "data": {
      "text/html": [
       "<div>\n",
       "<style scoped>\n",
       "    .dataframe tbody tr th:only-of-type {\n",
       "        vertical-align: middle;\n",
       "    }\n",
       "\n",
       "    .dataframe tbody tr th {\n",
       "        vertical-align: top;\n",
       "    }\n",
       "\n",
       "    .dataframe thead th {\n",
       "        text-align: right;\n",
       "    }\n",
       "</style>\n",
       "<table border=\"1\" class=\"dataframe\">\n",
       "  <thead>\n",
       "    <tr style=\"text-align: right;\">\n",
       "      <th>next_location</th>\n",
       "      <th>checkout</th>\n",
       "      <th>dairy</th>\n",
       "      <th>drinks</th>\n",
       "      <th>fruit</th>\n",
       "      <th>spices</th>\n",
       "    </tr>\n",
       "    <tr>\n",
       "      <th>location</th>\n",
       "      <th></th>\n",
       "      <th></th>\n",
       "      <th></th>\n",
       "      <th></th>\n",
       "      <th></th>\n",
       "    </tr>\n",
       "  </thead>\n",
       "  <tbody>\n",
       "    <tr>\n",
       "      <th>dairy</th>\n",
       "      <td>0.393033</td>\n",
       "      <td>0.000000</td>\n",
       "      <td>0.222483</td>\n",
       "      <td>0.189357</td>\n",
       "      <td>0.195127</td>\n",
       "    </tr>\n",
       "    <tr>\n",
       "      <th>drinks</th>\n",
       "      <td>0.537260</td>\n",
       "      <td>0.027145</td>\n",
       "      <td>0.000000</td>\n",
       "      <td>0.218950</td>\n",
       "      <td>0.216645</td>\n",
       "    </tr>\n",
       "    <tr>\n",
       "      <th>fruit</th>\n",
       "      <td>0.500195</td>\n",
       "      <td>0.237993</td>\n",
       "      <td>0.136080</td>\n",
       "      <td>0.000000</td>\n",
       "      <td>0.125732</td>\n",
       "    </tr>\n",
       "    <tr>\n",
       "      <th>spices</th>\n",
       "      <td>0.251998</td>\n",
       "      <td>0.323122</td>\n",
       "      <td>0.272776</td>\n",
       "      <td>0.152104</td>\n",
       "      <td>0.000000</td>\n",
       "    </tr>\n",
       "  </tbody>\n",
       "</table>\n",
       "</div>"
      ],
      "text/plain": [
       "next_location  checkout     dairy    drinks     fruit    spices\n",
       "location                                                       \n",
       "dairy          0.393033  0.000000  0.222483  0.189357  0.195127\n",
       "drinks         0.537260  0.027145  0.000000  0.218950  0.216645\n",
       "fruit          0.500195  0.237993  0.136080  0.000000  0.125732\n",
       "spices         0.251998  0.323122  0.272776  0.152104  0.000000"
      ]
     },
     "execution_count": 15,
     "metadata": {},
     "output_type": "execute_result"
    }
   ],
   "source": [
    "# create transition matrix between Location and next_Location\n",
    "df_matrix = pd.crosstab(df_shifted[\"location\"], df_shifted[\"next_location\"],normalize=\"index\")\n",
    "df_matrix"
   ]
  },
  {
   "cell_type": "code",
   "execution_count": 16,
   "id": "eff1d137",
   "metadata": {},
   "outputs": [
    {
     "data": {
      "text/plain": [
       "[0.3930326992947211,\n",
       " 0.0,\n",
       " 0.22248343663175893,\n",
       " 0.18935670014960462,\n",
       " 0.19512716392391535]"
      ]
     },
     "execution_count": 16,
     "metadata": {},
     "output_type": "execute_result"
    }
   ],
   "source": [
    "df_matrix.loc[\"dairy\"].to_list()"
   ]
  },
  {
   "cell_type": "code",
   "execution_count": 167,
   "id": "be53609b-f8f9-436e-b567-4adb06935fdf",
   "metadata": {},
   "outputs": [
    {
     "data": {
      "text/plain": [
       "<AxesSubplot:xlabel='next_location', ylabel='location'>"
      ]
     },
     "execution_count": 167,
     "metadata": {},
     "output_type": "execute_result"
    },
    {
     "data": {
      "image/png": "[encoded data removed]",
      "text/plain": [
       "<Figure size 432x288 with 2 Axes>"
      ]
     },
     "metadata": {
      "needs_background": "light"
     },
     "output_type": "display_data"
    }
   ],
   "source": [
    "# create heatmap\n",
    "sns.heatmap(df_matrix, cmap=\"YlGnBu\")"
   ]
  }
 ],
 "metadata": {
  "kernelspec": {
   "display_name": "Python 3 (ipykernel)",
   "language": "python",
   "name": "python3"
  },
  "language_info": {
   "codemirror_mode": {
    "name": "ipython",
    "version": 3
   },
   "file_extension": ".py",
   "mimetype": "text/x-python",
   "name": "python",
   "nbconvert_exporter": "python",
   "pygments_lexer": "ipython3",
   "version": "3.8.10"
  },
  "vscode": {
   "interpreter": {
    "hash": "916dbcbb3f70747c44a77c7bcd40155683ae19c65e1c03b4aa3499c5328201f1"
   }
  }
 },
 "nbformat": 4,
 "nbformat_minor": 5
}
